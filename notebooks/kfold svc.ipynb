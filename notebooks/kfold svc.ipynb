{
 "cells": [
  {
   "cell_type": "code",
   "execution_count": 1,
   "id": "c5767cd3-7626-4650-b81d-bb63129c8012",
   "metadata": {},
   "outputs": [
    {
     "name": "stdout",
     "output_type": "stream",
     "text": [
      "Fold 1\n",
      "Accuracy: 0.9943420113159773\n",
      "              precision    recall  f1-score   support\n",
      "\n",
      "           0   0.999871  0.992562  0.996203    249276\n",
      "           1   0.978412  0.999619  0.988902     84058\n",
      "\n",
      "    accuracy                       0.994342    333334\n",
      "   macro avg   0.989141  0.996091  0.992553    333334\n",
      "weighted avg   0.994459  0.994342  0.994362    333334\n",
      "\n",
      "Fold 2\n",
      "Accuracy: 0.9941019941019941\n",
      "              precision    recall  f1-score   support\n",
      "\n",
      "           0   0.999834  0.992278  0.996042    249275\n",
      "           1   0.977601  0.999512  0.988435     84058\n",
      "\n",
      "    accuracy                       0.994102    333333\n",
      "   macro avg   0.988718  0.995895  0.992238    333333\n",
      "weighted avg   0.994228  0.994102  0.994123    333333\n",
      "\n",
      "Fold 3\n",
      "Accuracy: 0.9942429942429942\n",
      "              precision    recall  f1-score   support\n",
      "\n",
      "           0   0.999842  0.992458  0.996137    249275\n",
      "           1   0.978114  0.999536  0.988709     84058\n",
      "\n",
      "    accuracy                       0.994243    333333\n",
      "   macro avg   0.988978  0.995997  0.992423    333333\n",
      "weighted avg   0.994363  0.994243  0.994264    333333\n",
      "\n"
     ]
    }
   ],
   "source": [
    "import numpy as np\n",
    "import pandas as pd\n",
    "from sklearn.preprocessing import MinMaxScaler\n",
    "from sklearn.svm import SVC\n",
    "from sklearn.model_selection import StratifiedKFold\n",
    "from sklearn.metrics import classification_report, accuracy_score\n",
    "\n",
    "df = pd.read_csv(\"../datasets/dataset-final.csv\", low_memory=False)\n",
    "\n",
    "features = [\n",
    "    'failed_count_last_5min',\n",
    "    'failed_ratio_last_5min',\n",
    "    'unique_user_ids_last_5min'\n",

    "]\n",
    "df['label'] = df['attack_type'].astype(str).apply(lambda x: 1 if x in [\"1\", \"2\", \"3\", \"4\"] else 0)\n",
    "\n",
    "X = df[features].values\n",
    "y = df['label'].values\n",
    "\n",
    "scaler = MinMaxScaler()\n",
    "X_scaled = scaler.fit_transform(X)\n",
    "\n",
    "skf = StratifiedKFold(n_splits=3, shuffle=True, random_state=42)\n",
    "\n",
    "fold = 1\n",
    "for train_index, test_index in skf.split(X_scaled, y):\n",
    "    print(f\"Fold {fold}\")\n",
    "    X_train, X_test = X_scaled[train_index], X_scaled[test_index]\n",
    "    y_train, y_test = y[train_index], y[test_index]\n",
    "\n",
    "    # SVM dengan kernel RBF\n",
    "    model = SVC(kernel='rbf', class_weight='balanced', random_state=42)\n",
    "    model.fit(X_train, y_train)\n",
    "\n",
    "    y_pred = model.predict(X_test)\n",
    "    print(\"Accuracy:\", accuracy_score(y_test, y_pred))\n",
    "    print(classification_report(y_test, y_pred, digits=6))\n",
    "    fold += 1\n"
   ]
  }
 ],
 "metadata": {
  "kernelspec": {
   "display_name": "Python 3 (ipykernel)",
   "language": "python",
   "name": "python3"
  },
  "language_info": {
   "codemirror_mode": {
    "name": "ipython",
    "version": 3
   },
   "file_extension": ".py",
   "mimetype": "text/x-python",
   "name": "python",
   "nbconvert_exporter": "python",
   "pygments_lexer": "ipython3",
   "version": "3.12.7"
  }
 },
 "nbformat": 4,
 "nbformat_minor": 5
}
