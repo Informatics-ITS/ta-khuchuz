{
 "cells": [
  {
   "cell_type": "code",
   "execution_count": 1,
   "id": "9e8066e4-a3c3-4814-9b2a-15630a35fb66",
   "metadata": {},
   "outputs": [
    {
     "name": "stdout",
     "output_type": "stream",
     "text": [
      "Fold 1\n",
      "Accuracy: 0.9975520048959902\n",
      "              precision    recall  f1-score   support\n",
      "\n",
      "           0   0.999598  0.997128  0.998361    249276\n",
      "           1   0.991544  0.998810  0.995164     84058\n",
      "\n",
      "    accuracy                       0.997552    333334\n",
      "   macro avg   0.995571  0.997969  0.996763    333334\n",
      "weighted avg   0.997567  0.997552  0.997555    333334\n",
      "\n",
      "Fold 2\n",
      "Accuracy: 0.9974289974289974\n",
      "              precision    recall  f1-score   support\n",
      "\n",
      "           0   0.999521  0.997039  0.998279    249275\n",
      "           1   0.991285  0.998584  0.994921     84058\n",
      "\n",
      "    accuracy                       0.997429    333333\n",
      "   macro avg   0.995403  0.997812  0.996600    333333\n",
      "weighted avg   0.997444  0.997429  0.997432    333333\n",
      "\n",
      "Fold 3\n",
      "Accuracy: 0.9976149976149976\n",
      "              precision    recall  f1-score   support\n",
      "\n",
      "           0   0.999574  0.997236  0.998404    249275\n",
      "           1   0.991860  0.998739  0.995287     84058\n",
      "\n",
      "    accuracy                       0.997615    333333\n",
      "   macro avg   0.995717  0.997987  0.996845    333333\n",
      "weighted avg   0.997628  0.997615  0.997618    333333\n",
      "\n"
     ]
    }
   ],
   "source": [
    "import numpy as np\n",
    "import pandas as pd\n",
    "from sklearn.preprocessing import MinMaxScaler\n",
    "from sklearn.svm import SVC\n",
    "from sklearn.model_selection import StratifiedKFold\n",
    "from sklearn.metrics import classification_report, accuracy_score\n",
    "\n",
    "df = pd.read_csv(\"../datasets/dataset-final.csv\", low_memory=False)\n",
    "\n",
    "features = [\n",
    "    'failed_count_last_5min',\n",
    "    'failed_ratio_last_5min',\n",
    "    'unique_user_ids_last_5min'\n",

    "]\n",
    "df['label'] = df['attack_type'].astype(str).apply(lambda x: 1 if x in [\"1\", \"2\", \"3\", \"4\"] else 0)\n",
    "\n",
    "X = df[features].values\n",
    "y = df['label'].values\n",
    "\n",
    "scaler = MinMaxScaler()\n",
    "X_scaled = scaler.fit_transform(X)\n",
    "\n",
    "skf = StratifiedKFold(n_splits=3, shuffle=True, random_state=42)\n",
    "\n",
    "fold = 1\n",
    "for train_index, test_index in skf.split(X_scaled, y):\n",
    "    print(f\"Fold {fold}\")\n",
    "    X_train, X_test = X_scaled[train_index], X_scaled[test_index]\n",
    "    y_train, y_test = y[train_index], y[test_index]\n",
    "\n",
    "    # SVM dengan kernel RBF\n",
    "    model = SVC(kernel='rbf', class_weight=None, random_state=42)\n",
    "    model.fit(X_train, y_train)\n",
    "\n",
    "    y_pred = model.predict(X_test)\n",
    "    print(\"Accuracy:\", accuracy_score(y_test, y_pred))\n",
    "    print(classification_report(y_test, y_pred, digits=6))\n",
    "    fold += 1\n"
   ]
  }
 ],
 "metadata": {
  "kernelspec": {
   "display_name": "Python 3 (ipykernel)",
   "language": "python",
   "name": "python3"
  },
  "language_info": {
   "codemirror_mode": {
    "name": "ipython",
    "version": 3
   },
   "file_extension": ".py",
   "mimetype": "text/x-python",
   "name": "python",
   "nbconvert_exporter": "python",
   "pygments_lexer": "ipython3",
   "version": "3.12.7"
  }
 },
 "nbformat": 4,
 "nbformat_minor": 5
}
