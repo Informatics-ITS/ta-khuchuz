{
 "cells": [
  {
   "cell_type": "code",
   "execution_count": 1,
   "id": "9e8066e4-a3c3-4814-9b2a-15630a35fb66",
   "metadata": {},
   "outputs": [
    {
     "name": "stdout",
     "output_type": "stream",
     "text": [
      "Fold 1\n",
      "Accuracy: 0.8396923206153588\n",
      "              precision    recall  f1-score   support\n",
      "\n",
      "           0   0.823476  1.000000  0.903194    249276\n",
      "           1   1.000000  0.364296  0.534043     84058\n",
      "\n",
      "    accuracy                       0.839692    333334\n",
      "   macro avg   0.911738  0.682148  0.718618    333334\n",
      "weighted avg   0.867991  0.839692  0.810103    333334\n",
      "\n",
      "Fold 2\n",
      "Accuracy: 0.8391008391008391\n",
      "              precision    recall  f1-score   support\n",
      "\n",
      "           0   0.822940  1.000000  0.902871    249275\n",
      "           1   1.000000  0.361952  0.531520     84058\n",
      "\n",
      "    accuracy                       0.839101    333333\n",
      "   macro avg   0.911470  0.680976  0.717195    333333\n",
      "weighted avg   0.867590  0.839101  0.809226    333333\n",
      "\n",
      "Fold 3\n",
      "Accuracy: 0.838950838950839\n",
      "              precision    recall  f1-score   support\n",
      "\n",
      "           0   0.822804  1.000000  0.902789    249275\n",
      "           1   1.000000  0.361358  0.530878     84058\n",
      "\n",
      "    accuracy                       0.838951    333333\n",
      "   macro avg   0.911402  0.680679  0.716834    333333\n",
      "weighted avg   0.867488  0.838951  0.809003    333333\n",
      "\n"
     ]
    }
   ],
   "source": [
    "import numpy as np\n",
    "import pandas as pd\n",
    "from sklearn.preprocessing import MinMaxScaler\n",
    "from sklearn.linear_model import SGDClassifier\n",
    "from sklearn.model_selection import StratifiedKFold\n",
    "from sklearn.metrics import classification_report, accuracy_score\n",
    "\n",
    "df = pd.read_csv(\"../datasets/dataset-final.csv\", low_memory=False)\n",
    "\n",
    "features = [\n",
    "    'failed_count_last_5min',\n",
    "    'failed_ratio_last_5min',\n",
    "    'unique_user_ids_last_5min'\n",

    "]\n",
    "df['label'] = df['attack_type'].astype(str).apply(lambda x: 1 if x in [\"1\", \"2\", \"3\", \"4\"] else 0)\n",
    "\n",
    "X = df[features].values\n",
    "y = df['label'].values\n",
    "\n",
    "scaler = MinMaxScaler()\n",
    "X_scaled = scaler.fit_transform(X)\n",
    "\n",
    "skf = StratifiedKFold(n_splits=3, shuffle=True, random_state=42)\n",
    "\n",
    "fold = 1\n",
    "for train_index, test_index in skf.split(X_scaled, y):\n",
    "    print(f\"Fold {fold}\")\n",
    "    X_train, X_test = X_scaled[train_index], X_scaled[test_index]\n",
    "    y_train, y_test = y[train_index], y[test_index]\n",
    "\n",
    "    model = SGDClassifier(loss='hinge', class_weight=None, max_iter=10000, random_state=42)\n",
    "    model.fit(X_train, y_train)\n",
    "\n",
    "    y_pred = model.predict(X_test)\n",
    "    print(\"Accuracy:\", accuracy_score(y_test, y_pred))\n",
    "    print(classification_report(y_test, y_pred, digits=6))\n",
    "    fold += 1\n"
   ]
  }
 ],
 "metadata": {
  "kernelspec": {
   "display_name": "Python 3 (ipykernel)",
   "language": "python",
   "name": "python3"
  },
  "language_info": {
   "codemirror_mode": {
    "name": "ipython",
    "version": 3
   },
   "file_extension": ".py",
   "mimetype": "text/x-python",
   "name": "python",
   "nbconvert_exporter": "python",
   "pygments_lexer": "ipython3",
   "version": "3.12.7"
  }
 },
 "nbformat": 4,
 "nbformat_minor": 5
}
