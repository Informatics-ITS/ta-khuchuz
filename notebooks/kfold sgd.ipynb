{
 "cells": [
  {
   "cell_type": "code",
   "execution_count": 1,
   "id": "c5767cd3-7626-4650-b81d-bb63129c8012",
   "metadata": {},
   "outputs": [
    {
     "name": "stdout",
     "output_type": "stream",
     "text": [
      "Fold 1\n",
      "Accuracy: 0.9575620848758303\n",
      "              precision    recall  f1-score   support\n",
      "\n",
      "           0   0.996705  0.946381  0.970891    249276\n",
      "           1   0.861699  0.990721  0.921716     84058\n",
      "\n",
      "    accuracy                       0.957562    333334\n",
      "   macro avg   0.929202  0.968551  0.946304    333334\n",
      "weighted avg   0.962660  0.957562  0.958490    333334\n",
      "\n",
      "Fold 2\n",
      "Accuracy: 0.9117429117429118\n",
      "              precision    recall  f1-score   support\n",
      "\n",
      "           0   0.997074  0.884577  0.937463    249275\n",
      "           1   0.743526  0.992303  0.850087     84058\n",
      "\n",
      "    accuracy                       0.911743    333333\n",
      "   macro avg   0.870300  0.938440  0.893775    333333\n",
      "weighted avg   0.933136  0.911743  0.915429    333333\n",
      "\n",
      "Fold 3\n",
      "Accuracy: 0.9588789588789589\n",
      "              precision    recall  f1-score   support\n",
      "\n",
      "           0   0.996564  0.948282  0.971824    249275\n",
      "           1   0.865897  0.990304  0.923932     84058\n",
      "\n",
      "    accuracy                       0.958879    333333\n",
      "   macro avg   0.931230  0.969293  0.947878    333333\n",
      "weighted avg   0.963613  0.958879  0.959747    333333\n",
      "\n"
     ]
    }
   ],
   "source": [
    "import numpy as np\n",
    "import pandas as pd\n",
    "from sklearn.preprocessing import MinMaxScaler\n",
    "from sklearn.linear_model import SGDClassifier\n",
    "from sklearn.model_selection import StratifiedKFold\n",
    "from sklearn.metrics import classification_report, accuracy_score\n",
    "\n",
    "df = pd.read_csv(\"../datasets/dataset-final.csv\", low_memory=False)\n",
    "\n",
    "features = [\n",
    "    'failed_count_last_5min',\n",
    "    'failed_ratio_last_5min',\n",
    "    'unique_user_ids_last_5min'\n",

    "]\n",
    "df['label'] = df['attack_type'].astype(str).apply(lambda x: 1 if x in [\"1\", \"2\", \"3\", \"4\"] else 0)\n",
    "\n",
    "X = df[features].values\n",
    "y = df['label'].values\n",
    "\n",
    "scaler = MinMaxScaler()\n",
    "X_scaled = scaler.fit_transform(X)\n",
    "\n",
    "skf = StratifiedKFold(n_splits=3, shuffle=True, random_state=42)\n",
    "\n",
    "fold = 1\n",
    "for train_index, test_index in skf.split(X_scaled, y):\n",
    "    print(f\"Fold {fold}\")\n",
    "    X_train, X_test = X_scaled[train_index], X_scaled[test_index]\n",
    "    y_train, y_test = y[train_index], y[test_index]\n",
    "\n",
    "    model = SGDClassifier(loss='hinge', class_weight='balanced', max_iter=10000, random_state=42)\n",
    "    model.fit(X_train, y_train)\n",
    "\n",
    "    y_pred = model.predict(X_test)\n",
    "    print(\"Accuracy:\", accuracy_score(y_test, y_pred))\n",
    "    print(classification_report(y_test, y_pred, digits=6))\n",
    "    fold += 1\n"
   ]
  }
 ],
 "metadata": {
  "kernelspec": {
   "display_name": "Python 3 (ipykernel)",
   "language": "python",
   "name": "python3"
  },
  "language_info": {
   "codemirror_mode": {
    "name": "ipython",
    "version": 3
   },
   "file_extension": ".py",
   "mimetype": "text/x-python",
   "name": "python",
   "nbconvert_exporter": "python",
   "pygments_lexer": "ipython3",
   "version": "3.12.7"
  }
 },
 "nbformat": 4,
 "nbformat_minor": 5
}
